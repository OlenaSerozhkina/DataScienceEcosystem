{
 "cells": [
  {
   "cell_type": "markdown",
   "id": "cf4b89d1",
   "metadata": {},
   "source": [
    "# Data Science Tools and Ecosystem"
   ]
  },
  {
   "cell_type": "markdown",
   "id": "105cdd47",
   "metadata": {},
   "source": [
    "In this notebook, Data Science Tools and Ecosystem are summarized."
   ]
  },
  {
   "cell_type": "markdown",
   "id": "bed96f1e",
   "metadata": {},
   "source": [
    "**Objectives:**\n",
    "* List popular languages for Data Science.\n",
    "* Commoly used libraries for Data Science.\n",
    "* Open source tools used in Data Science."
   ]
  },
  {
   "cell_type": "markdown",
   "id": "2cb64e38",
   "metadata": {},
   "source": [
    "Some of the popular languages that Data Scientists use are:\n",
    "1. R.\n",
    "2. Python.\n",
    "3. Julia.\n",
    "4. Java.\n",
    "5. Scala."
   ]
  },
  {
   "cell_type": "markdown",
   "id": "7522dc17",
   "metadata": {},
   "source": [
    "Some of the commonly used libraries used by Data Scientists include:\n",
    "\n",
    "1. NumPy.\n",
    "2. Keras.\n",
    "3. Pandas.\n",
    "4. PyTorch.\n",
    "5. SciPy.\n",
    "6. Scikit-Learn.\n",
    "7. TensorFlow.\n",
    "8. Matplotlib."
   ]
  },
  {
   "cell_type": "markdown",
   "id": "f534d152",
   "metadata": {},
   "source": [
    "| Data Science Tools |\n",
    "| ------------------ |\n",
    "| RStudio |\n",
    "| Jupyter Notebooks |\n",
    "| Apache Hadoop |\n",
    "| GitHub |\n",
    "| MongoDB |"
   ]
  },
  {
   "cell_type": "markdown",
   "id": "9ca01a66",
   "metadata": {},
   "source": [
    "### Below are a few examples of evaluating arithmetic expressions in Python"
   ]
  },
  {
   "cell_type": "code",
   "execution_count": 2,
   "id": "1584f681",
   "metadata": {},
   "outputs": [
    {
     "data": {
      "text/plain": [
       "17"
      ]
     },
     "execution_count": 2,
     "metadata": {},
     "output_type": "execute_result"
    }
   ],
   "source": [
    "(3*4)+5 #This a simple arithmetic expression to mutiply then add integers"
   ]
  },
  {
   "cell_type": "code",
   "execution_count": 3,
   "id": "6ac2aa8d",
   "metadata": {},
   "outputs": [
    {
     "data": {
      "text/plain": [
       "3.3333333333333335"
      ]
     },
     "execution_count": 3,
     "metadata": {},
     "output_type": "execute_result"
    }
   ],
   "source": [
    "# This will convert 200 minutes to hours by diving by 60:\n",
    "200/60"
   ]
  },
  {
   "cell_type": "markdown",
   "id": "3cb0a0f6",
   "metadata": {},
   "source": [
    "## Author"
   ]
  },
  {
   "cell_type": "markdown",
   "id": "560056e3",
   "metadata": {},
   "source": [
    "Olena Serozhkina"
   ]
  },
  {
   "cell_type": "markdown",
   "id": "259c51c3",
   "metadata": {},
   "source": [
    "[IBM Watson Studio](https://eu-gb.dataplatform.cloud.ibm.com/analytics/notebooks/v2/ad3aeb58-eb0c-4bbd-9838-9597f9cc1d3e/view?access_token=72f9a8afe098574a4e23e10a1782312b8532c0992718e286fec44d9975374dd9&context=cpdaas)"
   ]
  },
  {
   "cell_type": "code",
   "execution_count": null,
   "id": "aaf22922",
   "metadata": {},
   "outputs": [],
   "source": []
  },
  {
   "cell_type": "markdown",
   "id": "e4b61c4d",
   "metadata": {},
   "source": []
  }
 ],
 "metadata": {
  "kernelspec": {
   "display_name": "Python 3 (ipykernel)",
   "language": "python",
   "name": "python3"
  },
  "language_info": {
   "codemirror_mode": {
    "name": "ipython",
    "version": 3
   },
   "file_extension": ".py",
   "mimetype": "text/x-python",
   "name": "python",
   "nbconvert_exporter": "python",
   "pygments_lexer": "ipython3",
   "version": "3.11.5"
  }
 },
 "nbformat": 4,
 "nbformat_minor": 5
}
